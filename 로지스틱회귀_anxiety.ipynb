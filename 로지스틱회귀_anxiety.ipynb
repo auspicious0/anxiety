{
  "cells": [
    {
      "cell_type": "markdown",
      "metadata": {
        "id": "view-in-github",
        "colab_type": "text"
      },
      "source": [
        "<a href=\"https://colab.research.google.com/github/auspicious0/anxiety/blob/main/%EB%A1%9C%EC%A7%80%EC%8A%A4%ED%8B%B1%ED%9A%8C%EA%B7%80_anxiety.ipynb\" target=\"_parent\"><img src=\"https://colab.research.google.com/assets/colab-badge.svg\" alt=\"Open In Colab\"/></a>"
      ]
    },
    {
      "cell_type": "code",
      "execution_count": null,
      "metadata": {
        "colab": {
          "base_uri": "https://localhost:8080/"
        },
        "id": "iNU0XJ2sGeUj",
        "outputId": "9db8b2d3-45cd-4df7-aa6f-aa40fa8d9095"
      },
      "outputs": [
        {
          "output_type": "stream",
          "name": "stderr",
          "text": [
            "Installing packages into ‘/usr/local/lib/R/site-library’\n",
            "(as ‘lib’ is unspecified)\n",
            "\n",
            "── \u001b[1mAttaching core tidyverse packages\u001b[22m ──────────────────────── tidyverse 2.0.0 ──\n",
            "\u001b[32m✔\u001b[39m \u001b[34mdplyr    \u001b[39m 1.1.3     \u001b[32m✔\u001b[39m \u001b[34mreadr    \u001b[39m 2.1.4\n",
            "\u001b[32m✔\u001b[39m \u001b[34mforcats  \u001b[39m 1.0.0     \u001b[32m✔\u001b[39m \u001b[34mstringr  \u001b[39m 1.5.0\n",
            "\u001b[32m✔\u001b[39m \u001b[34mggplot2  \u001b[39m 3.4.4     \u001b[32m✔\u001b[39m \u001b[34mtibble   \u001b[39m 3.2.1\n",
            "\u001b[32m✔\u001b[39m \u001b[34mlubridate\u001b[39m 1.9.3     \u001b[32m✔\u001b[39m \u001b[34mtidyr    \u001b[39m 1.3.0\n",
            "\u001b[32m✔\u001b[39m \u001b[34mpurrr    \u001b[39m 1.0.2     \n",
            "── \u001b[1mConflicts\u001b[22m ────────────────────────────────────────── tidyverse_conflicts() ──\n",
            "\u001b[31m✖\u001b[39m \u001b[34mdplyr\u001b[39m::\u001b[32mfilter()\u001b[39m masks \u001b[34mstats\u001b[39m::filter()\n",
            "\u001b[31m✖\u001b[39m \u001b[34mdplyr\u001b[39m::\u001b[32mlag()\u001b[39m    masks \u001b[34mstats\u001b[39m::lag()\n",
            "\u001b[36mℹ\u001b[39m Use the conflicted package (\u001b[3m\u001b[34m<http://conflicted.r-lib.org/>\u001b[39m\u001b[23m) to force all conflicts to become errors\n",
            "\n",
            "Attaching package: ‘data.table’\n",
            "\n",
            "\n",
            "The following objects are masked from ‘package:lubridate’:\n",
            "\n",
            "    hour, isoweek, mday, minute, month, quarter, second, wday, week,\n",
            "    yday, year\n",
            "\n",
            "\n",
            "The following objects are masked from ‘package:dplyr’:\n",
            "\n",
            "    between, first, last\n",
            "\n",
            "\n",
            "The following object is masked from ‘package:purrr’:\n",
            "\n",
            "    transpose\n",
            "\n",
            "\n"
          ]
        }
      ],
      "source": [
        "#패키지 부착, 출력 그래프의 크기를 설정\n",
        "install.packages(c(\"tidyverse\",\"data.table\"))\n",
        "library(tidyverse)\n",
        "library(data.table)\n",
        "library(repr)\n",
        "\n",
        "options(repr.plot.width=7,repr.plot.height=7)\n"
      ]
    },
    {
      "cell_type": "code",
      "execution_count": null,
      "metadata": {
        "colab": {
          "base_uri": "https://localhost:8080/",
          "height": 34
        },
        "id": "xeS8UV-6HEhr",
        "outputId": "2490fee4-d81d-4184-94d2-8608ddf4e403"
      },
      "outputs": [
        {
          "output_type": "display_data",
          "data": {
            "text/html": [
              "<style>\n",
              ".list-inline {list-style: none; margin:0; padding: 0}\n",
              ".list-inline>li {display: inline-block}\n",
              ".list-inline>li:not(:last-child)::after {content: \"\\00b7\"; padding: 0 .5ex}\n",
              "</style>\n",
              "<ol class=list-inline><li>'depression_anxiety_data.csv'</li><li>'sample_data'</li></ol>\n"
            ],
            "text/markdown": "1. 'depression_anxiety_data.csv'\n2. 'sample_data'\n\n\n",
            "text/latex": "\\begin{enumerate*}\n\\item 'depression\\_anxiety\\_data.csv'\n\\item 'sample\\_data'\n\\end{enumerate*}\n",
            "text/plain": [
              "[1] \"depression_anxiety_data.csv\" \"sample_data\"                "
            ]
          },
          "metadata": {}
        }
      ],
      "source": [
        "#데이터 취득과 정제\n",
        "#https://www.kaggle.com/datasets/shahzadahmad0402/depression-and-anxiety-data/data?select=depression_anxiety_data.csv\n",
        "#https://drive.google.com/file/d/1QbSP_vPsddHP4EdKhEFyealseK5b2pyg/view?usp=sharing\n",
        "system(\"gdown --id 1QbSP_vPsddHP4EdKhEFyealseK5b2pyg\")\n",
        "system(\"ls\",TRUE)\n"
      ]
    },
    {
      "cell_type": "code",
      "execution_count": null,
      "metadata": {
        "colab": {
          "base_uri": "https://localhost:8080/"
        },
        "id": "4G3_VCjYIU89",
        "outputId": "5d86c69d-c5a9-4407-dd5d-67befa2ca69b"
      },
      "outputs": [
        {
          "output_type": "stream",
          "name": "stdout",
          "text": [
            "\u001b[90m# A tibble: 783 × 19\u001b[39m\n",
            "      id school_year   age gender   bmi who_bmi    phq_score depression_severity\n",
            "   \u001b[3m\u001b[90m<int>\u001b[39m\u001b[23m       \u001b[3m\u001b[90m<int>\u001b[39m\u001b[23m \u001b[3m\u001b[90m<int>\u001b[39m\u001b[23m \u001b[3m\u001b[90m<chr>\u001b[39m\u001b[23m  \u001b[3m\u001b[90m<dbl>\u001b[39m\u001b[23m \u001b[3m\u001b[90m<chr>\u001b[39m\u001b[23m          \u001b[3m\u001b[90m<int>\u001b[39m\u001b[23m \u001b[3m\u001b[90m<chr>\u001b[39m\u001b[23m              \n",
            "\u001b[90m 1\u001b[39m     1           1    19 male    33.3 Class I O…         9 Mild               \n",
            "\u001b[90m 2\u001b[39m     2           1    18 male    19.8 Normal             8 Mild               \n",
            "\u001b[90m 3\u001b[39m     3           1    19 male    25.1 Overweight         8 Mild               \n",
            "\u001b[90m 4\u001b[39m     4           1    18 female  23.7 Normal            19 Moderately severe  \n",
            "\u001b[90m 5\u001b[39m     5           1    18 male    25.6 Overweight         6 Mild               \n",
            "\u001b[90m 6\u001b[39m     6           1    18 male    22.1 Normal             3 None-minimal       \n",
            "\u001b[90m 7\u001b[39m     7           1    18 male    22.4 Normal             6 Mild               \n",
            "\u001b[90m 8\u001b[39m     8           1    19 male    20.5 Normal             4 None-minimal       \n",
            "\u001b[90m 9\u001b[39m     9           1    20 male    21.2 Normal            11 Moderate           \n",
            "\u001b[90m10\u001b[39m    10           1    19 male    24.5 Normal             6 Mild               \n",
            "\u001b[90m# ℹ 773 more rows\u001b[39m\n",
            "\u001b[90m# ℹ 11 more variables: depressiveness <lgl>, suicidal <lgl>,\u001b[39m\n",
            "\u001b[90m#   depression_diagnosis <lgl>, depression_treatment <lgl>, gad_score <int>,\u001b[39m\n",
            "\u001b[90m#   anxiety_severity <chr>, anxiousness <lgl>, anxiety_diagnosis <lgl>,\u001b[39m\n",
            "\u001b[90m#   anxiety_treatment <lgl>, epworth_score <int>, sleepiness <lgl>\u001b[39m\n"
          ]
        }
      ],
      "source": [
        "DF<-fread(\"depression_anxiety_data.csv\",header=T,encoding=\"UTF-8\")%>%as_tibble()\n",
        "DF%>%show()"
      ]
    },
    {
      "cell_type": "code",
      "execution_count": null,
      "metadata": {
        "colab": {
          "base_uri": "https://localhost:8080/"
        },
        "id": "9UsxGcg6IieE",
        "outputId": "6a947d9f-cc1c-47fa-b2da-18ae4e7156ed"
      },
      "outputs": [
        {
          "output_type": "stream",
          "name": "stdout",
          "text": [
            "tibble [783 × 19] (S3: tbl_df/tbl/data.frame)\n",
            " $ id                  : int [1:783] 1 2 3 4 5 6 7 8 9 10 ...\n",
            " $ school_year         : int [1:783] 1 1 1 1 1 1 1 1 1 1 ...\n",
            " $ age                 : int [1:783] 19 18 19 18 18 18 18 19 20 19 ...\n",
            " $ gender              : chr [1:783] \"male\" \"male\" \"male\" \"female\" ...\n",
            " $ bmi                 : num [1:783] 33.3 19.8 25.1 23.7 25.6 ...\n",
            " $ who_bmi             : chr [1:783] \"Class I Obesity\" \"Normal\" \"Overweight\" \"Normal\" ...\n",
            " $ phq_score           : int [1:783] 9 8 8 19 6 3 6 4 11 6 ...\n",
            " $ depression_severity : chr [1:783] \"Mild\" \"Mild\" \"Mild\" \"Moderately severe\" ...\n",
            " $ depressiveness      : logi [1:783] FALSE FALSE FALSE TRUE FALSE FALSE ...\n",
            " $ suicidal            : logi [1:783] FALSE FALSE FALSE TRUE FALSE FALSE ...\n",
            " $ depression_diagnosis: logi [1:783] FALSE FALSE FALSE FALSE FALSE FALSE ...\n",
            " $ depression_treatment: logi [1:783] FALSE FALSE FALSE FALSE FALSE FALSE ...\n",
            " $ gad_score           : int [1:783] 11 5 6 15 14 2 4 9 8 4 ...\n",
            " $ anxiety_severity    : chr [1:783] \"Moderate\" \"Mild\" \"Mild\" \"Severe\" ...\n",
            " $ anxiousness         : logi [1:783] TRUE FALSE FALSE TRUE TRUE FALSE ...\n",
            " $ anxiety_diagnosis   : logi [1:783] FALSE FALSE FALSE FALSE FALSE FALSE ...\n",
            " $ anxiety_treatment   : logi [1:783] FALSE FALSE FALSE FALSE FALSE FALSE ...\n",
            " $ epworth_score       : int [1:783] 7 14 6 11 3 2 3 5 7 9 ...\n",
            " $ sleepiness          : logi [1:783] FALSE TRUE FALSE TRUE FALSE FALSE ...\n",
            " - attr(*, \".internal.selfref\")=<externalptr> \n"
          ]
        }
      ],
      "source": [
        "DF%>%str() #나이(age), 학년(school_year), 성별(gender), 육체적 능력(bmi, who_bmi, phq_score)과 불안과의 관계를 로지스틱회귀로 분석\n",
        "           #육체적 능력(phq_score)에 따른 불안 정도(gad_score)를 선형회귀로 분석"
      ]
    },
    {
      "cell_type": "code",
      "execution_count": null,
      "metadata": {
        "colab": {
          "base_uri": "https://localhost:8080/",
          "height": 121
        },
        "id": "QgfgpauDIsDI",
        "outputId": "8bf75af1-0afe-4e4d-99d6-6eb802e9c252"
      },
      "outputs": [
        {
          "output_type": "display_data",
          "data": {
            "text/html": [
              "<style>\n",
              ".list-inline {list-style: none; margin:0; padding: 0}\n",
              ".list-inline>li {display: inline-block}\n",
              ".list-inline>li:not(:last-child)::after {content: \"\\00b7\"; padding: 0 .5ex}\n",
              "</style>\n",
              "<ol class=list-inline><li>1</li><li>2</li><li>3</li><li>4</li></ol>\n"
            ],
            "text/markdown": "1. 1\n2. 2\n3. 3\n4. 4\n\n\n",
            "text/latex": "\\begin{enumerate*}\n\\item 1\n\\item 2\n\\item 3\n\\item 4\n\\end{enumerate*}\n",
            "text/plain": [
              "[1] 1 2 3 4"
            ]
          },
          "metadata": {}
        },
        {
          "output_type": "display_data",
          "data": {
            "text/html": [
              "<style>\n",
              ".list-inline {list-style: none; margin:0; padding: 0}\n",
              ".list-inline>li {display: inline-block}\n",
              ".list-inline>li:not(:last-child)::after {content: \"\\00b7\"; padding: 0 .5ex}\n",
              "</style>\n",
              "<ol class=list-inline><li>19</li><li>18</li><li>20</li><li>21</li><li>24</li><li>23</li><li>26</li><li>22</li><li>31</li><li>25</li><li>28</li><li>27</li><li>30</li></ol>\n"
            ],
            "text/markdown": "1. 19\n2. 18\n3. 20\n4. 21\n5. 24\n6. 23\n7. 26\n8. 22\n9. 31\n10. 25\n11. 28\n12. 27\n13. 30\n\n\n",
            "text/latex": "\\begin{enumerate*}\n\\item 19\n\\item 18\n\\item 20\n\\item 21\n\\item 24\n\\item 23\n\\item 26\n\\item 22\n\\item 31\n\\item 25\n\\item 28\n\\item 27\n\\item 30\n\\end{enumerate*}\n",
            "text/plain": [
              " [1] 19 18 20 21 24 23 26 22 31 25 28 27 30"
            ]
          },
          "metadata": {}
        },
        {
          "output_type": "display_data",
          "data": {
            "text/html": [
              "<style>\n",
              ".list-inline {list-style: none; margin:0; padding: 0}\n",
              ".list-inline>li {display: inline-block}\n",
              ".list-inline>li:not(:last-child)::after {content: \"\\00b7\"; padding: 0 .5ex}\n",
              "</style>\n",
              "<ol class=list-inline><li>'male'</li><li>'female'</li></ol>\n"
            ],
            "text/markdown": "1. 'male'\n2. 'female'\n\n\n",
            "text/latex": "\\begin{enumerate*}\n\\item 'male'\n\\item 'female'\n\\end{enumerate*}\n",
            "text/plain": [
              "[1] \"male\"   \"female\""
            ]
          },
          "metadata": {}
        },
        {
          "output_type": "display_data",
          "data": {
            "text/html": [
              "<style>\n",
              ".list-inline {list-style: none; margin:0; padding: 0}\n",
              ".list-inline>li {display: inline-block}\n",
              ".list-inline>li:not(:last-child)::after {content: \"\\00b7\"; padding: 0 .5ex}\n",
              "</style>\n",
              "<ol class=list-inline><li>'Class I Obesity'</li><li>'Normal'</li><li>'Overweight'</li><li>'Not Availble'</li><li>'Class III Obesity'</li><li>'Underweight'</li><li>'Class II Obesity'</li></ol>\n"
            ],
            "text/markdown": "1. 'Class I Obesity'\n2. 'Normal'\n3. 'Overweight'\n4. 'Not Availble'\n5. 'Class III Obesity'\n6. 'Underweight'\n7. 'Class II Obesity'\n\n\n",
            "text/latex": "\\begin{enumerate*}\n\\item 'Class I Obesity'\n\\item 'Normal'\n\\item 'Overweight'\n\\item 'Not Availble'\n\\item 'Class III Obesity'\n\\item 'Underweight'\n\\item 'Class II Obesity'\n\\end{enumerate*}\n",
            "text/plain": [
              "[1] \"Class I Obesity\"   \"Normal\"            \"Overweight\"       \n",
              "[4] \"Not Availble\"      \"Class III Obesity\" \"Underweight\"      \n",
              "[7] \"Class II Obesity\" "
            ]
          },
          "metadata": {}
        },
        {
          "output_type": "display_data",
          "data": {
            "text/html": [
              "<style>\n",
              ".list-inline {list-style: none; margin:0; padding: 0}\n",
              ".list-inline>li {display: inline-block}\n",
              ".list-inline>li:not(:last-child)::after {content: \"\\00b7\"; padding: 0 .5ex}\n",
              "</style>\n",
              "<ol class=list-inline><li>'Moderate'</li><li>'Mild'</li><li>'Severe'</li><li>'None-minimal'</li><li>'0'</li></ol>\n"
            ],
            "text/markdown": "1. 'Moderate'\n2. 'Mild'\n3. 'Severe'\n4. 'None-minimal'\n5. '0'\n\n\n",
            "text/latex": "\\begin{enumerate*}\n\\item 'Moderate'\n\\item 'Mild'\n\\item 'Severe'\n\\item 'None-minimal'\n\\item '0'\n\\end{enumerate*}\n",
            "text/plain": [
              "[1] \"Moderate\"     \"Mild\"         \"Severe\"       \"None-minimal\" \"0\"           "
            ]
          },
          "metadata": {}
        },
        {
          "output_type": "display_data",
          "data": {
            "text/html": [
              "<style>\n",
              ".list-inline {list-style: none; margin:0; padding: 0}\n",
              ".list-inline>li {display: inline-block}\n",
              ".list-inline>li:not(:last-child)::after {content: \"\\00b7\"; padding: 0 .5ex}\n",
              "</style>\n",
              "<ol class=list-inline><li>TRUE</li><li>FALSE</li><li>&lt;NA&gt;</li></ol>\n"
            ],
            "text/markdown": "1. TRUE\n2. FALSE\n3. &lt;NA&gt;\n\n\n",
            "text/latex": "\\begin{enumerate*}\n\\item TRUE\n\\item FALSE\n\\item <NA>\n\\end{enumerate*}\n",
            "text/plain": [
              "[1]  TRUE FALSE    NA"
            ]
          },
          "metadata": {}
        }
      ],
      "source": [
        "#사용할 변수들의 범주형 확인\n",
        "\n",
        "DF$school_year %>% unique()\n",
        "DF$age %>% unique()\n",
        "DF$gender %>% unique()\n",
        "DF$who_bmi %>% unique()\n",
        "DF$anxiety_severity %>% unique()\n",
        "DF$anxiousness%>% unique()\n",
        "\n",
        "#삭제할 변수는 id, depression_severity, depressiveness, suicidal, depression_diagnosis,depression_treatment, anxiety_diagnosis, anxiety_treatment, sleepiness"
      ]
    },
    {
      "cell_type": "code",
      "execution_count": null,
      "metadata": {
        "id": "QPp3nQOwLTyM"
      },
      "outputs": [],
      "source": [
        "#삭제할 변수는 id, depression_severity, depressiveness, suicidal, depression_diagnosis,depression_treatment, anxiety_diagnosis, anxiety_treatment, sleepiness\n",
        "#age는 10개 이상의 값이 있어 범주형으로 선택하지 않음.\n",
        "DF<-select(DF,-id, - depression_severity, -depressiveness, -suicidal, -depression_diagnosis,-depression_treatment ,-anxiety_diagnosis, -anxiety_treatment,-sleepiness)%>%\n",
        "  mutate_at(c(\"school_year\",\"gender\",\"who_bmi\",\"anxiety_severity\",\"anxiousness\"),factor)"
      ]
    },
    {
      "cell_type": "code",
      "execution_count": null,
      "metadata": {
        "colab": {
          "base_uri": "https://localhost:8080/"
        },
        "id": "bg3BId6YOMxL",
        "outputId": "11bf3046-96c5-4699-da49-4f7b3e09e756"
      },
      "outputs": [
        {
          "output_type": "stream",
          "name": "stdout",
          "text": [
            "tibble [783 × 10] (S3: tbl_df/tbl/data.frame)\n",
            " $ school_year     : Factor w/ 4 levels \"1\",\"2\",\"3\",\"4\": 1 1 1 1 1 1 1 1 1 1 ...\n",
            " $ age             : int [1:783] 19 18 19 18 18 18 18 19 20 19 ...\n",
            " $ gender          : Factor w/ 2 levels \"female\",\"male\": 2 2 2 1 2 2 2 2 2 2 ...\n",
            " $ bmi             : num [1:783] 33.3 19.8 25.1 23.7 25.6 ...\n",
            " $ who_bmi         : Factor w/ 7 levels \"Class I Obesity\",..: 1 4 6 4 6 4 4 4 4 4 ...\n",
            " $ phq_score       : int [1:783] 9 8 8 19 6 3 6 4 11 6 ...\n",
            " $ gad_score       : int [1:783] 11 5 6 15 14 2 4 9 8 4 ...\n",
            " $ anxiety_severity: Factor w/ 5 levels \"0\",\"Mild\",\"Moderate\",..: 3 2 2 5 3 4 4 2 2 4 ...\n",
            " $ anxiousness     : Factor w/ 2 levels \"FALSE\",\"TRUE\": 2 1 1 2 2 1 1 1 1 1 ...\n",
            " $ epworth_score   : int [1:783] 7 14 6 11 3 2 3 5 7 9 ...\n",
            " - attr(*, \".internal.selfref\")=<externalptr> \n",
            "\u001b[90m# A tibble: 783 × 10\u001b[39m\n",
            "   school_year   age gender   bmi who_bmi   phq_score gad_score anxiety_severity\n",
            "   \u001b[3m\u001b[90m<fct>\u001b[39m\u001b[23m       \u001b[3m\u001b[90m<int>\u001b[39m\u001b[23m \u001b[3m\u001b[90m<fct>\u001b[39m\u001b[23m  \u001b[3m\u001b[90m<dbl>\u001b[39m\u001b[23m \u001b[3m\u001b[90m<fct>\u001b[39m\u001b[23m         \u001b[3m\u001b[90m<int>\u001b[39m\u001b[23m     \u001b[3m\u001b[90m<int>\u001b[39m\u001b[23m \u001b[3m\u001b[90m<fct>\u001b[39m\u001b[23m           \n",
            "\u001b[90m 1\u001b[39m 1              19 male    33.3 Class I …         9        11 Moderate        \n",
            "\u001b[90m 2\u001b[39m 1              18 male    19.8 Normal            8         5 Mild            \n",
            "\u001b[90m 3\u001b[39m 1              19 male    25.1 Overweig…         8         6 Mild            \n",
            "\u001b[90m 4\u001b[39m 1              18 female  23.7 Normal           19        15 Severe          \n",
            "\u001b[90m 5\u001b[39m 1              18 male    25.6 Overweig…         6        14 Moderate        \n",
            "\u001b[90m 6\u001b[39m 1              18 male    22.1 Normal            3         2 None-minimal    \n",
            "\u001b[90m 7\u001b[39m 1              18 male    22.4 Normal            6         4 None-minimal    \n",
            "\u001b[90m 8\u001b[39m 1              19 male    20.5 Normal            4         9 Mild            \n",
            "\u001b[90m 9\u001b[39m 1              20 male    21.2 Normal           11         8 Mild            \n",
            "\u001b[90m10\u001b[39m 1              19 male    24.5 Normal            6         4 None-minimal    \n",
            "\u001b[90m# ℹ 773 more rows\u001b[39m\n",
            "\u001b[90m# ℹ 2 more variables: anxiousness <fct>, epworth_score <int>\u001b[39m\n"
          ]
        }
      ],
      "source": [
        "#변환이 잘 되었는지 확인\n",
        "DF%>%str()\n",
        "DF%>%show()"
      ]
    },
    {
      "cell_type": "code",
      "execution_count": null,
      "metadata": {
        "colab": {
          "base_uri": "https://localhost:8080/",
          "height": 927
        },
        "id": "_tpzBm51OOze",
        "outputId": "4cb5b64d-e83b-416a-c0cb-e07f8037b2fb"
      },
      "outputs": [
        {
          "output_type": "display_data",
          "data": {
            "text/plain": [
              " school_year      age           gender         bmi       \n",
              " 1:227       Min.   :18.00   female:350   Min.   :14.88  \n",
              " 2:165       1st Qu.:19.00   male  :333   1st Qu.:20.90  \n",
              " 3:130       Median :20.00                Median :22.99  \n",
              " 4:161       Mean   :20.17                Mean   :23.17  \n",
              "             3rd Qu.:21.00                3rd Qu.:25.25  \n",
              "             Max.   :24.00                Max.   :31.60  \n",
              "                                                         \n",
              "              who_bmi      phq_score       gad_score          anxiety_severity\n",
              " Class I Obesity  :  8   Min.   : 0.00   Min.   : 0.000   0           :  0    \n",
              " Class II Obesity :  0   1st Qu.: 4.00   1st Qu.: 3.000   Mild        :277    \n",
              " Class III Obesity:  0   Median : 6.00   Median : 6.000   Moderate    :105    \n",
              " Normal           :470   Mean   : 6.46   Mean   : 6.347   None-minimal:264    \n",
              " Not Availble     :  0   3rd Qu.: 9.00   3rd Qu.: 9.000   Severe      : 37    \n",
              " Overweight       :174   Max.   :16.00   Max.   :18.000                       \n",
              " Underweight      : 31                                                        \n",
              " anxiousness epworth_score   \n",
              " FALSE:541   Min.   : 0.000  \n",
              " TRUE :142   1st Qu.: 3.000  \n",
              "             Median : 6.000  \n",
              "             Mean   : 6.072  \n",
              "             3rd Qu.: 9.000  \n",
              "             Max.   :18.000  \n",
              "                             "
            ]
          },
          "metadata": {}
        },
        {
          "output_type": "display_data",
          "data": {
            "text/plain": [
              "\n",
              "FALSE \n",
              " 6830 "
            ]
          },
          "metadata": {}
        },
        {
          "output_type": "display_data",
          "data": {
            "text/plain": [
              "plot without title"
            ],
            "image/png": "[encoded data removed]"
          },
          "metadata": {
            "image/png": {
              "width": 420,
              "height": 420
            }
          }
        }
      ],
      "source": [
        "#결측값, 이상값 처리를 위한 확인절차\n",
        "DF%>%summary()\n",
        "table(is.na(DF))\n",
        "boxplot(DF)"
      ]
    },
    {
      "cell_type": "code",
      "execution_count": null,
      "metadata": {
        "colab": {
          "base_uri": "https://localhost:8080/",
          "height": 491
        },
        "id": "o6VFgNvbPqyi",
        "outputId": "fdfd720e-5418-4909-daec-b90164199458"
      },
      "outputs": [
        {
          "output_type": "display_data",
          "data": {
            "text/plain": [
              "\n",
              "FALSE \n",
              " 7710 "
            ]
          },
          "metadata": {}
        },
        {
          "output_type": "display_data",
          "data": {
            "text/plain": [
              "plot without title"
            ],
            "image/png": "[encoded data removed]"
          },
          "metadata": {
            "image/png": {
              "width": 420,
              "height": 420
            }
          }
        }
      ],
      "source": [
        "# 결측값은 불안(anxiousness)에서 대략 700개 이상의 데이터 중 6개, 수면도(epworth_score)에서 8개 이므로 결과에 큰 영향을 미치지 않을 것으로\n",
        "#판단했기 때문에 삭제해도 무리가 없을 것으로 생각한다.\n",
        "#이상값 처리를 진행한다.\n",
        "\n",
        "DF<-na.omit(DF)\n",
        "table(is.na(DF))\n",
        "# 이상치 및 결측값 처리 함수\n",
        "calculate_outliers <- function(data, column_name) {\n",
        "  iqr_value <- IQR(data[[column_name]])\n",
        "  upper_limit <- quantile(data[[column_name]], 0.75) + 1.5 * iqr_value\n",
        "  lower_limit <- quantile(data[[column_name]], 0.25) - 1.5 * iqr_value\n",
        "\n",
        "  data[[column_name]] <- ifelse(data[[column_name]] < lower_limit | data[[column_name]] > upper_limit, NA, data[[column_name]])\n",
        "\n",
        "  return(data)\n",
        "}\n",
        "\n",
        "# 이상치 및 결측값 처리 및 결과에 대한 상자그림 그리기\n",
        "DF <- calculate_outliers(DF, \"age\")\n",
        "DF <- calculate_outliers(DF, \"phq_score\")\n",
        "DF <- calculate_outliers(DF, \"bmi\")\n",
        "DF <- calculate_outliers(DF, \"gad_score\")\n",
        "DF <- calculate_outliers(DF, \"epworth_score\")\n",
        "DF <- na.omit(DF)\n",
        "boxplot(DF)"
      ]
    },
    {
      "cell_type": "code",
      "execution_count": null,
      "metadata": {
        "colab": {
          "base_uri": "https://localhost:8080/"
        },
        "id": "qOan5zrcQWuW",
        "outputId": "1f709590-85de-4c7e-8d8e-357849667b32"
      },
      "outputs": [
        {
          "output_type": "stream",
          "name": "stderr",
          "text": [
            "Installing package into ‘/usr/local/lib/R/site-library’\n",
            "(as ‘lib’ is unspecified)\n",
            "\n"
          ]
        }
      ],
      "source": [
        "#카이제곱 검정을 통해 나이(age), 학년(school_year), 성별(gender), 육체적 능력(bmi, who_bmi, phq_score)과 불안(anxiousness)과의 연관관계를 분석\n",
        "install.packages(\"gmodels\")"
      ]
    },
    {
      "cell_type": "code",
      "execution_count": null,
      "metadata": {
        "colab": {
          "base_uri": "https://localhost:8080/"
        },
        "id": "RSgbXCuzR1j7",
        "outputId": "de59dd0e-0b63-4658-92a9-b08935d03b65"
      },
      "outputs": [
        {
          "output_type": "stream",
          "name": "stdout",
          "text": [
            "[1] \"불안(anxiousness)과 나이(age)와의 연관관계 분석 \"\n"
          ]
        },
        {
          "output_type": "stream",
          "name": "stderr",
          "text": [
            "Warning message in chisq.test(t, correct = FALSE, ...):\n",
            "“Chi-squared approximation may be incorrect”\n"
          ]
        },
        {
          "output_type": "stream",
          "name": "stdout",
          "text": [
            "\n",
            " \n",
            "   Cell Contents\n",
            "|-------------------------|\n",
            "|                       N |\n",
            "|              Expected N |\n",
            "| Chi-square contribution |\n",
            "|         N / Table Total |\n",
            "|-------------------------|\n",
            "\n",
            " \n",
            "Total Observations in Table:  683 \n",
            "\n",
            " \n",
            "               | DF$age \n",
            "DF$anxiousness |        18 |        19 |        20 |        21 |        22 |        23 |        24 | Row Total | \n",
            "---------------|-----------|-----------|-----------|-----------|-----------|-----------|-----------|-----------|\n",
            "         FALSE |        80 |       122 |       100 |       126 |        74 |        27 |        12 |       541 | \n",
            "               |    79.209 |   133.864 |   102.972 |   114.061 |    74.457 |    24.555 |    11.881 |           | \n",
            "               |     0.008 |     1.051 |     0.086 |     1.250 |     0.003 |     0.243 |     0.001 |           | \n",
            "               |     0.117 |     0.179 |     0.146 |     0.184 |     0.108 |     0.040 |     0.018 |           | \n",
            "---------------|-----------|-----------|-----------|-----------|-----------|-----------|-----------|-----------|\n",
            "          TRUE |        20 |        47 |        30 |        18 |        20 |         4 |         3 |       142 | \n",
            "               |    20.791 |    35.136 |    27.028 |    29.939 |    19.543 |     6.445 |     3.119 |           | \n",
            "               |     0.030 |     4.006 |     0.327 |     4.761 |     0.011 |     0.928 |     0.005 |           | \n",
            "               |     0.029 |     0.069 |     0.044 |     0.026 |     0.029 |     0.006 |     0.004 |           | \n",
            "---------------|-----------|-----------|-----------|-----------|-----------|-----------|-----------|-----------|\n",
            "  Column Total |       100 |       169 |       130 |       144 |        94 |        31 |        15 |       683 | \n",
            "---------------|-----------|-----------|-----------|-----------|-----------|-----------|-----------|-----------|\n",
            "\n",
            " \n",
            "Statistics for All Table Factors\n",
            "\n",
            "\n",
            "Pearson's Chi-squared test \n",
            "------------------------------------------------------------\n",
            "Chi^2 =  12.70841     d.f. =  6     p =  0.04790733 \n",
            "\n",
            "\n",
            " \n"
          ]
        }
      ],
      "source": [
        "print(\"불안(anxiousness)과 나이(age)와의 연관관계 분석 \")\n",
        "gmodels::CrossTable(DF$anxiousness,DF$age,chisq=T,expected=T,prop.r=F,prop.c=F)"
      ]
    },
    {
      "cell_type": "markdown",
      "metadata": {
        "id": "2jg6it2JSvCZ"
      },
      "source": [
        "#대학 학생들 대상 데이터다 보니 상대적으로 25세 이상 학생이 적어 효과적인 데이터 분석이 되지 않고 있다고 판단.\n",
        "\n",
        "# 따라서 나이가 효과적인 변수가 되지 않는 것일 수도 있다고 생각하여 학년으로 바꾸어 다시 카이제곱 분석\n"
      ]
    },
    {
      "cell_type": "code",
      "execution_count": null,
      "metadata": {
        "colab": {
          "base_uri": "https://localhost:8080/"
        },
        "id": "V10caM1ASYFH",
        "outputId": "03306023-d2bb-447e-a4c1-ae0ba07e7d6e"
      },
      "outputs": [
        {
          "output_type": "stream",
          "name": "stdout",
          "text": [
            "[1] \"불안(anxiousness)과 학년(school_year)와의 연관관계 분석 \"\n",
            "\n",
            " \n",
            "   Cell Contents\n",
            "|-------------------------|\n",
            "|                       N |\n",
            "|              Expected N |\n",
            "| Chi-square contribution |\n",
            "|         N / Table Total |\n",
            "|-------------------------|\n",
            "\n",
            " \n",
            "Total Observations in Table:  683 \n",
            "\n",
            " \n",
            "               | DF$school_year \n",
            "DF$anxiousness |         1 |         2 |         3 |         4 | Row Total | \n",
            "---------------|-----------|-----------|-----------|-----------|-----------|\n",
            "         FALSE |       172 |       123 |       106 |       140 |       541 | \n",
            "               |   179.805 |   130.695 |   102.972 |   127.527 |           | \n",
            "               |     0.339 |     0.453 |     0.089 |     1.220 |           | \n",
            "               |     0.252 |     0.180 |     0.155 |     0.205 |           | \n",
            "---------------|-----------|-----------|-----------|-----------|-----------|\n",
            "          TRUE |        55 |        42 |        24 |        21 |       142 | \n",
            "               |    47.195 |    34.305 |    27.028 |    33.473 |           | \n",
            "               |     1.291 |     1.726 |     0.339 |     4.648 |           | \n",
            "               |     0.081 |     0.061 |     0.035 |     0.031 |           | \n",
            "---------------|-----------|-----------|-----------|-----------|-----------|\n",
            "  Column Total |       227 |       165 |       130 |       161 |       683 | \n",
            "---------------|-----------|-----------|-----------|-----------|-----------|\n",
            "\n",
            " \n",
            "Statistics for All Table Factors\n",
            "\n",
            "\n",
            "Pearson's Chi-squared test \n",
            "------------------------------------------------------------\n",
            "Chi^2 =  10.10501     d.f. =  3     p =  0.01769428 \n",
            "\n",
            "\n",
            " \n"
          ]
        }
      ],
      "source": [
        "print(\"불안(anxiousness)과 학년(school_year)와의 연관관계 분석 \")\n",
        "gmodels::CrossTable(DF$anxiousness,DF$school_year,chisq=T,expected=T,prop.r=F,prop.c=F)"
      ]
    },
    {
      "cell_type": "markdown",
      "metadata": {
        "id": "xali5ezJT49N"
      },
      "source": [
        "#1학년 학생이 전체 데이터 중 1/3을 차지하기 때문에 분석이 제대로 이루어지지 않는 것 같다고 생각한다.\n",
        "\n",
        "\n",
        "#불안감의 정도를 각 학년별로 비율적으로 분석해도 크게 유의미한 결과는 아닌 것으로 확인.  "
      ]
    },
    {
      "cell_type": "code",
      "execution_count": null,
      "metadata": {
        "colab": {
          "base_uri": "https://localhost:8080/"
        },
        "id": "mdTpaQsrTl3r",
        "outputId": "7d372e33-a6b0-46e9-f332-09e880fd20ea"
      },
      "outputs": [
        {
          "output_type": "stream",
          "name": "stdout",
          "text": [
            "[1] \"불안(anxiousness)과 학년(gender)와의 연관관계 분석 \"\n",
            "\n",
            " \n",
            "   Cell Contents\n",
            "|-------------------------|\n",
            "|                       N |\n",
            "|              Expected N |\n",
            "| Chi-square contribution |\n",
            "|         N / Table Total |\n",
            "|-------------------------|\n",
            "\n",
            " \n",
            "Total Observations in Table:  683 \n",
            "\n",
            " \n",
            "               | DF$gender \n",
            "DF$anxiousness |    female |      male | Row Total | \n",
            "---------------|-----------|-----------|-----------|\n",
            "         FALSE |       256 |       285 |       541 | \n",
            "               |   277.233 |   263.767 |           | \n",
            "               |     1.626 |     1.709 |           | \n",
            "               |     0.375 |     0.417 |           | \n",
            "---------------|-----------|-----------|-----------|\n",
            "          TRUE |        94 |        48 |       142 | \n",
            "               |    72.767 |    69.233 |           | \n",
            "               |     6.196 |     6.512 |           | \n",
            "               |     0.138 |     0.070 |           | \n",
            "---------------|-----------|-----------|-----------|\n",
            "  Column Total |       350 |       333 |       683 | \n",
            "---------------|-----------|-----------|-----------|\n",
            "\n",
            " \n",
            "Statistics for All Table Factors\n",
            "\n",
            "\n",
            "Pearson's Chi-squared test \n",
            "------------------------------------------------------------\n",
            "Chi^2 =  16.04274     d.f. =  1     p =  6.192853e-05 \n",
            "\n",
            "Pearson's Chi-squared test with Yates' continuity correction \n",
            "------------------------------------------------------------\n",
            "Chi^2 =  15.29607     d.f. =  1     p =  9.19073e-05 \n",
            "\n",
            " \n"
          ]
        }
      ],
      "source": [
        "print(\"불안(anxiousness)과 성별(gender)와의 연관관계 분석 \")\n",
        "gmodels::CrossTable(DF$anxiousness,DF$gender,chisq=T,expected=T,prop.r=F,prop.c=F)"
      ]
    },
    {
      "cell_type": "markdown",
      "metadata": {
        "id": "WxiipzIaUmic"
      },
      "source": [
        "#여성이 남성보다 다소 더 불안을 느끼는 것으로 확인된다."
      ]
    },
    {
      "cell_type": "code",
      "execution_count": null,
      "metadata": {
        "colab": {
          "base_uri": "https://localhost:8080/"
        },
        "id": "pbCjZxlMU5wT",
        "outputId": "e7fae7e7-1011-46e8-c616-e71d87ea4fe5"
      },
      "outputs": [
        {
          "output_type": "stream",
          "name": "stdout",
          "text": [
            "[1] \"불안(anxiousness)과 육체적 능력(who_bmi)와의 연관관계 분석 \"\n"
          ]
        },
        {
          "output_type": "stream",
          "name": "stderr",
          "text": [
            "Warning message in chisq.test(t, correct = FALSE, ...):\n",
            "“Chi-squared approximation may be incorrect”\n"
          ]
        },
        {
          "output_type": "stream",
          "name": "stdout",
          "text": [
            "\n",
            " \n",
            "   Cell Contents\n",
            "|-------------------------|\n",
            "|                       N |\n",
            "|              Expected N |\n",
            "| Chi-square contribution |\n",
            "|         N / Table Total |\n",
            "|-------------------------|\n",
            "\n",
            " \n",
            "Total Observations in Table:  683 \n",
            "\n",
            " \n",
            "               | DF$who_bmi \n",
            "DF$anxiousness | Class I Obesity |          Normal |      Overweight |     Underweight |       Row Total | \n",
            "---------------|-----------------|-----------------|-----------------|-----------------|-----------------|\n",
            "         FALSE |               5 |             374 |             138 |              24 |             541 | \n",
            "               |           6.337 |         372.284 |         137.824 |          24.555 |                 | \n",
            "               |           0.282 |           0.008 |           0.000 |           0.013 |                 | \n",
            "               |           0.007 |           0.548 |           0.202 |           0.035 |                 | \n",
            "---------------|-----------------|-----------------|-----------------|-----------------|-----------------|\n",
            "          TRUE |               3 |              96 |              36 |               7 |             142 | \n",
            "               |           1.663 |          97.716 |          36.176 |           6.445 |                 | \n",
            "               |           1.074 |           0.030 |           0.001 |           0.048 |                 | \n",
            "               |           0.004 |           0.141 |           0.053 |           0.010 |                 | \n",
            "---------------|-----------------|-----------------|-----------------|-----------------|-----------------|\n",
            "  Column Total |               8 |             470 |             174 |              31 |             683 | \n",
            "---------------|-----------------|-----------------|-----------------|-----------------|-----------------|\n",
            "\n",
            " \n",
            "Statistics for All Table Factors\n",
            "\n",
            "\n",
            "Pearson's Chi-squared test \n",
            "------------------------------------------------------------\n",
            "Chi^2 =  1.455768     d.f. =  3     p =  0.6925161 \n",
            "\n",
            "\n",
            " \n"
          ]
        }
      ],
      "source": [
        "print(\"불안(anxiousness)과 육체적 능력(who_bmi)와의 연관관계 분석 \")\n",
        "gmodels::CrossTable(DF$anxiousness,DF$who_bmi,chisq=T,expected=T,prop.r=F,prop.c=F)"
      ]
    },
    {
      "cell_type": "markdown",
      "metadata": {
        "id": "TDBzfs3yVeD7"
      },
      "source": [
        "#절대다수가 normal 클레스에 있기 때문에 효과적인 분석이 이루어지지 않는 것으로 보인다. 따라서 해당 주제로 프로젝트를 계속 진행해 나가야 할지 고민된다.\n",
        "\n",
        "#우선 glm을 통해 상관관계를 파악한 후 다시 결정하기로 한다.\n"
      ]
    },
    {
      "cell_type": "code",
      "execution_count": null,
      "metadata": {
        "colab": {
          "base_uri": "https://localhost:8080/"
        },
        "id": "EWJRcgc9V7KV",
        "outputId": "ad408f1d-efef-41b5-ecb9-56d115affee1"
      },
      "outputs": [
        {
          "output_type": "stream",
          "name": "stderr",
          "text": [
            "Installing package into ‘/usr/local/lib/R/site-library’\n",
            "(as ‘lib’ is unspecified)\n",
            "\n",
            "also installing the dependencies ‘listenv’, ‘parallelly’, ‘future’, ‘globals’, ‘shape’, ‘future.apply’, ‘numDeriv’, ‘progressr’, ‘SQUAREM’, ‘diagram’, ‘lava’, ‘prodlim’, ‘proxy’, ‘iterators’, ‘Rcpp’, ‘clock’, ‘gower’, ‘hardhat’, ‘ipred’, ‘timeDate’, ‘e1071’, ‘foreach’, ‘ModelMetrics’, ‘plyr’, ‘pROC’, ‘recipes’, ‘reshape2’\n",
            "\n",
            "\n"
          ]
        }
      ],
      "source": [
        "#본격적인 로지스틱 회귀 분석을 위해 패키지를 설치한다. 데이터의 80페센트를 학습 데이터(train)\n",
        "#나머지는 테스트 데이터(test)로 분리한다.\n",
        "install.packages(\"caret\")"
      ]
    },
    {
      "cell_type": "code",
      "execution_count": null,
      "metadata": {
        "id": "v-PpT6RUWZZ2",
        "colab": {
          "base_uri": "https://localhost:8080/"
        },
        "outputId": "b2e2d997-7a5a-41c9-893e-fe2a1cbdea28"
      },
      "outputs": [
        {
          "output_type": "stream",
          "name": "stdout",
          "text": [
            "\u001b[90m# A tibble: 547 × 10\u001b[39m\n",
            "   school_year   age gender   bmi who_bmi   phq_score gad_score anxiety_severity\n",
            "   \u001b[3m\u001b[90m<fct>\u001b[39m\u001b[23m       \u001b[3m\u001b[90m<int>\u001b[39m\u001b[23m \u001b[3m\u001b[90m<fct>\u001b[39m\u001b[23m  \u001b[3m\u001b[90m<dbl>\u001b[39m\u001b[23m \u001b[3m\u001b[90m<fct>\u001b[39m\u001b[23m         \u001b[3m\u001b[90m<int>\u001b[39m\u001b[23m     \u001b[3m\u001b[90m<int>\u001b[39m\u001b[23m \u001b[3m\u001b[90m<fct>\u001b[39m\u001b[23m           \n",
            "\u001b[90m 1\u001b[39m 1              18 male    19.8 Normal            8         5 Mild            \n",
            "\u001b[90m 2\u001b[39m 1              18 male    22.1 Normal            3         2 None-minimal    \n",
            "\u001b[90m 3\u001b[39m 1              19 male    20.5 Normal            4         9 Mild            \n",
            "\u001b[90m 4\u001b[39m 1              20 male    21.2 Normal           11         8 Mild            \n",
            "\u001b[90m 5\u001b[39m 1              19 male    24.5 Normal            6         4 None-minimal    \n",
            "\u001b[90m 6\u001b[39m 1              18 male    23.1 Normal            2         2 None-minimal    \n",
            "\u001b[90m 7\u001b[39m 1              18 male    22.8 Normal           10        11 Moderate        \n",
            "\u001b[90m 8\u001b[39m 1              18 male    19.6 Normal            6         1 None-minimal    \n",
            "\u001b[90m 9\u001b[39m 1              18 male    20.8 Normal            8         1 None-minimal    \n",
            "\u001b[90m10\u001b[39m 1              18 male    27.3 Overweig…         9         2 None-minimal    \n",
            "\u001b[90m# ℹ 537 more rows\u001b[39m\n",
            "\u001b[90m# ℹ 2 more variables: anxiousness <fct>, epworth_score <int>\u001b[39m\n",
            "\u001b[90m# A tibble: 136 × 10\u001b[39m\n",
            "   school_year   age gender   bmi who_bmi   phq_score gad_score anxiety_severity\n",
            "   \u001b[3m\u001b[90m<fct>\u001b[39m\u001b[23m       \u001b[3m\u001b[90m<int>\u001b[39m\u001b[23m \u001b[3m\u001b[90m<fct>\u001b[39m\u001b[23m  \u001b[3m\u001b[90m<dbl>\u001b[39m\u001b[23m \u001b[3m\u001b[90m<fct>\u001b[39m\u001b[23m         \u001b[3m\u001b[90m<int>\u001b[39m\u001b[23m     \u001b[3m\u001b[90m<int>\u001b[39m\u001b[23m \u001b[3m\u001b[90m<fct>\u001b[39m\u001b[23m           \n",
            "\u001b[90m 1\u001b[39m 1              19 male    25.1 Overweig…         8         6 Mild            \n",
            "\u001b[90m 2\u001b[39m 1              18 male    25.6 Overweig…         6        14 Moderate        \n",
            "\u001b[90m 3\u001b[39m 1              18 male    22.4 Normal            6         4 None-minimal    \n",
            "\u001b[90m 4\u001b[39m 1              19 male    28.7 Overweig…         9         4 None-minimal    \n",
            "\u001b[90m 5\u001b[39m 1              18 male    22.8 Normal            6         7 Mild            \n",
            "\u001b[90m 6\u001b[39m 1              18 female  22.1 Normal            7        12 Moderate        \n",
            "\u001b[90m 7\u001b[39m 1              18 female  24.0 Normal            8         8 Mild            \n",
            "\u001b[90m 8\u001b[39m 1              18 female  26.6 Overweig…         8        12 Moderate        \n",
            "\u001b[90m 9\u001b[39m 1              19 male    24.8 Normal            6        13 Moderate        \n",
            "\u001b[90m10\u001b[39m 1              18 male    24.2 Normal            3         2 None-minimal    \n",
            "\u001b[90m# ℹ 126 more rows\u001b[39m\n",
            "\u001b[90m# ℹ 2 more variables: anxiousness <fct>, epworth_score <int>\u001b[39m\n"
          ]
        }
      ],
      "source": [
        "index<-caret::createDataPartition(y=DF$anxiousness,p=0.8,list=FALSE)\n",
        "train<-DF[index,]\n",
        "test<-DF[-index,]\n",
        "\n",
        "train%>%show()\n",
        "test%>%show()"
      ]
    },
    {
      "cell_type": "code",
      "source": [
        "print(\"glm model m\")\n",
        "\n",
        "m <- glm(formula = anxiousness ~ ., data = train, family = \"binomial\")\n",
        "summary(m)\n"
      ],
      "metadata": {
        "colab": {
          "base_uri": "https://localhost:8080/",
          "height": 616
        },
        "id": "QV0fgp1wM98o",
        "outputId": "8a4783a5-56c6-4461-88d4-eeda1b718fea"
      },
      "execution_count": null,
      "outputs": [
        {
          "output_type": "stream",
          "name": "stdout",
          "text": [
            "[1] \"glm model m\"\n"
          ]
        },
        {
          "output_type": "stream",
          "name": "stderr",
          "text": [
            "Warning message:\n",
            "“glm.fit: algorithm did not converge”\n"
          ]
        },
        {
          "output_type": "display_data",
          "data": {
            "text/plain": [
              "\n",
              "Call:\n",
              "glm(formula = anxiousness ~ ., family = \"binomial\", data = train)\n",
              "\n",
              "Coefficients:\n",
              "                               Estimate Std. Error z value Pr(>|z|)\n",
              "(Intercept)                  -2.657e+01  4.241e+05   0.000    1.000\n",
              "school_year2                  2.108e-13  4.227e+04   0.000    1.000\n",
              "school_year3                 -2.460e-14  5.086e+04   0.000    1.000\n",
              "school_year4                 -1.996e-14  5.723e+04   0.000    1.000\n",
              "age                           4.524e-14  1.426e+04   0.000    1.000\n",
              "gendermale                   -3.389e-14  3.303e+04   0.000    1.000\n",
              "bmi                          -8.535e-14  9.785e+03   0.000    1.000\n",
              "who_bmiNormal                -9.306e-13  1.567e+05   0.000    1.000\n",
              "who_bmiOverweight            -6.470e-13  1.377e+05   0.000    1.000\n",
              "who_bmiUnderweight           -1.254e-12  1.951e+05   0.000    1.000\n",
              "phq_score                    -4.645e-14  5.413e+03   0.000    1.000\n",
              "gad_score                     5.977e-14  1.210e+04   0.000    1.000\n",
              "anxiety_severityModerate      5.313e+01  7.133e+04   0.001    0.999\n",
              "anxiety_severityNone-minimal  1.786e-13  6.202e+04   0.000    1.000\n",
              "anxiety_severitySevere        5.313e+01  1.277e+05   0.000    1.000\n",
              "epworth_score                 1.902e-15  4.639e+03   0.000    1.000\n",
              "\n",
              "(Dispersion parameter for binomial family taken to be 1)\n",
              "\n",
              "    Null deviance: 5.5727e+02  on 546  degrees of freedom\n",
              "Residual deviance: 3.1735e-09  on 531  degrees of freedom\n",
              "AIC: 32\n",
              "\n",
              "Number of Fisher Scoring iterations: 25\n"
            ]
          },
          "metadata": {}
        }
      ]
    },
    {
      "cell_type": "markdown",
      "source": [
        "#“glm.fit: algorithm did not converge” 해당 오류가 발생했습니다.\n",
        "\n",
        "#해당 오류는 수렴 문제로 모델 복잡성, 다중공선성등의 문제로 발생합니다.\n",
        "\n",
        "#해당 문제의 경우 다중공선성 및 모델 복잡성으로 수렴이 되지 않는 문제가 발생한다고 하는데 이 경우 어떤 문제가 있는지 판단하기 힘듭니다.\n",
        "\n",
        "#우선 이를 해결하기 위해 최대 반복 횟수를 증가시켜 보았습니다. 즉 control = glm.control(maxit = 100)와 같이 maxit 매개변수를 증가시킨 것입니다. 또 모델을 단순화 해보기 위해 아래와 같이 시행해 보고자합니다.\n"
      ],
      "metadata": {
        "id": "DAwsrhf8Uzf3"
      }
    },
    {
      "cell_type": "code",
      "source": [
        "#다시 변수를 초기화 한 후 살펴보기\n",
        "DF%>%str()\n"
      ],
      "metadata": {
        "colab": {
          "base_uri": "https://localhost:8080/"
        },
        "id": "Kg88k55zNRWf",
        "outputId": "1637bc83-43df-4bec-df54-540549eca0b8"
      },
      "execution_count": null,
      "outputs": [
        {
          "output_type": "stream",
          "name": "stdout",
          "text": [
            "tibble [783 × 19] (S3: tbl_df/tbl/data.frame)\n",
            " $ id                  : int [1:783] 1 2 3 4 5 6 7 8 9 10 ...\n",
            " $ school_year         : int [1:783] 1 1 1 1 1 1 1 1 1 1 ...\n",
            " $ age                 : int [1:783] 19 18 19 18 18 18 18 19 20 19 ...\n",
            " $ gender              : chr [1:783] \"male\" \"male\" \"male\" \"female\" ...\n",
            " $ bmi                 : num [1:783] 33.3 19.8 25.1 23.7 25.6 ...\n",
            " $ who_bmi             : chr [1:783] \"Class I Obesity\" \"Normal\" \"Overweight\" \"Normal\" ...\n",
            " $ phq_score           : int [1:783] 9 8 8 19 6 3 6 4 11 6 ...\n",
            " $ depression_severity : chr [1:783] \"Mild\" \"Mild\" \"Mild\" \"Moderately severe\" ...\n",
            " $ depressiveness      : logi [1:783] FALSE FALSE FALSE TRUE FALSE FALSE ...\n",
            " $ suicidal            : logi [1:783] FALSE FALSE FALSE TRUE FALSE FALSE ...\n",
            " $ depression_diagnosis: logi [1:783] FALSE FALSE FALSE FALSE FALSE FALSE ...\n",
            " $ depression_treatment: logi [1:783] FALSE FALSE FALSE FALSE FALSE FALSE ...\n",
            " $ gad_score           : int [1:783] 11 5 6 15 14 2 4 9 8 4 ...\n",
            " $ anxiety_severity    : chr [1:783] \"Moderate\" \"Mild\" \"Mild\" \"Severe\" ...\n",
            " $ anxiousness         : logi [1:783] TRUE FALSE FALSE TRUE TRUE FALSE ...\n",
            " $ anxiety_diagnosis   : logi [1:783] FALSE FALSE FALSE FALSE FALSE FALSE ...\n",
            " $ anxiety_treatment   : logi [1:783] FALSE FALSE FALSE FALSE FALSE FALSE ...\n",
            " $ epworth_score       : int [1:783] 7 14 6 11 3 2 3 5 7 9 ...\n",
            " $ sleepiness          : logi [1:783] FALSE TRUE FALSE TRUE FALSE FALSE ...\n",
            " - attr(*, \".internal.selfref\")=<externalptr> \n"
          ]
        }
      ]
    },
    {
      "cell_type": "code",
      "source": [
        "DF$gender %>% unique()\n",
        "DF$depression_severity %>% unique()\n",
        "DF$anxiety_severity %>% unique()\n"
      ],
      "metadata": {
        "colab": {
          "base_uri": "https://localhost:8080/",
          "height": 69
        },
        "id": "GBdwJ5FgW_0n",
        "outputId": "d8eb920c-868e-4721-ca24-3fa8b5f9cfed"
      },
      "execution_count": null,
      "outputs": [
        {
          "output_type": "display_data",
          "data": {
            "text/html": [
              "<style>\n",
              ".list-inline {list-style: none; margin:0; padding: 0}\n",
              ".list-inline>li {display: inline-block}\n",
              ".list-inline>li:not(:last-child)::after {content: \"\\00b7\"; padding: 0 .5ex}\n",
              "</style>\n",
              "<ol class=list-inline><li>'male'</li><li>'female'</li></ol>\n"
            ],
            "text/markdown": "1. 'male'\n2. 'female'\n\n\n",
            "text/latex": "\\begin{enumerate*}\n\\item 'male'\n\\item 'female'\n\\end{enumerate*}\n",
            "text/plain": [
              "[1] \"male\"   \"female\""
            ]
          },
          "metadata": {}
        },
        {
          "output_type": "display_data",
          "data": {
            "text/html": [
              "<style>\n",
              ".list-inline {list-style: none; margin:0; padding: 0}\n",
              ".list-inline>li {display: inline-block}\n",
              ".list-inline>li:not(:last-child)::after {content: \"\\00b7\"; padding: 0 .5ex}\n",
              "</style>\n",
              "<ol class=list-inline><li>'Mild'</li><li>'Moderately severe'</li><li>'None-minimal'</li><li>'Moderate'</li><li>NA</li><li>'Severe'</li><li>'none'</li></ol>\n"
            ],
            "text/markdown": "1. 'Mild'\n2. 'Moderately severe'\n3. 'None-minimal'\n4. 'Moderate'\n5. NA\n6. 'Severe'\n7. 'none'\n\n\n",
            "text/latex": "\\begin{enumerate*}\n\\item 'Mild'\n\\item 'Moderately severe'\n\\item 'None-minimal'\n\\item 'Moderate'\n\\item NA\n\\item 'Severe'\n\\item 'none'\n\\end{enumerate*}\n",
            "text/plain": [
              "[1] \"Mild\"              \"Moderately severe\" \"None-minimal\"     \n",
              "[4] \"Moderate\"          NA                  \"Severe\"           \n",
              "[7] \"none\"             "
            ]
          },
          "metadata": {}
        },
        {
          "output_type": "display_data",
          "data": {
            "text/html": [
              "<style>\n",
              ".list-inline {list-style: none; margin:0; padding: 0}\n",
              ".list-inline>li {display: inline-block}\n",
              ".list-inline>li:not(:last-child)::after {content: \"\\00b7\"; padding: 0 .5ex}\n",
              "</style>\n",
              "<ol class=list-inline><li>'Moderate'</li><li>'Mild'</li><li>'Severe'</li><li>'None-minimal'</li><li>'0'</li></ol>\n"
            ],
            "text/markdown": "1. 'Moderate'\n2. 'Mild'\n3. 'Severe'\n4. 'None-minimal'\n5. '0'\n\n\n",
            "text/latex": "\\begin{enumerate*}\n\\item 'Moderate'\n\\item 'Mild'\n\\item 'Severe'\n\\item 'None-minimal'\n\\item '0'\n\\end{enumerate*}\n",
            "text/plain": [
              "[1] \"Moderate\"     \"Mild\"         \"Severe\"       \"None-minimal\" \"0\"           "
            ]
          },
          "metadata": {}
        }
      ]
    },
    {
      "cell_type": "markdown",
      "source": [
        "해당 변수로는 무엇을 이끌어내기 어려울 것으로 판단된다.\n"
      ],
      "metadata": {
        "id": "I-rfx87mX3D8"
      }
    },
    {
      "cell_type": "code",
      "source": [
        "#일단 계속해서 진행해 보려고 한다. 필요없는 설명변수를 제거해본다.“backward”방식사용\n",
        "print(\"backward model mback\")\n",
        "mback <- step(m, direction = \"backward\")"
      ],
      "metadata": {
        "colab": {
          "base_uri": "https://localhost:8080/"
        },
        "id": "cMa4zPqSil-j",
        "outputId": "f5b4f6c7-e7d3-4b2a-e4c4-dd2e7f905ab6"
      },
      "execution_count": null,
      "outputs": [
        {
          "output_type": "stream",
          "name": "stdout",
          "text": [
            "[1] \"backward model mback\"\n",
            "Start:  AIC=32\n",
            "anxiousness ~ school_year + age + gender + bmi + who_bmi + phq_score + \n",
            "    gad_score + anxiety_severity + epworth_score\n",
            "\n"
          ]
        },
        {
          "output_type": "stream",
          "name": "stderr",
          "text": [
            "Warning message:\n",
            "“glm.fit: algorithm did not converge”\n",
            "Warning message:\n",
            "“glm.fit: algorithm did not converge”\n",
            "Warning message:\n",
            "“glm.fit: algorithm did not converge”\n",
            "Warning message:\n",
            "“glm.fit: algorithm did not converge”\n",
            "Warning message:\n",
            "“glm.fit: algorithm did not converge”\n",
            "Warning message:\n",
            "“glm.fit: algorithm did not converge”\n",
            "Warning message:\n",
            "“glm.fit: algorithm did not converge”\n",
            "Warning message:\n",
            "“glm.fit: algorithm did not converge”\n",
            "Warning message:\n",
            "“glm.fit: fitted probabilities numerically 0 or 1 occurred”\n",
            "Warning message:\n",
            "“glm.fit: algorithm did not converge”\n"
          ]
        },
        {
          "output_type": "stream",
          "name": "stdout",
          "text": [
            "                   Df   Deviance AIC\n",
            "- school_year       3 3.1730e-09  26\n",
            "- who_bmi           3 3.1730e-09  26\n",
            "- anxiety_severity  3 1.0563e-07  26\n",
            "- age               1 3.1730e-09  30\n",
            "- gender            1 3.1730e-09  30\n",
            "- bmi               1 3.1730e-09  30\n",
            "- phq_score         1 3.1730e-09  30\n",
            "- gad_score         1 3.1730e-09  30\n",
            "- epworth_score     1 3.1730e-09  30\n",
            "<none>                3.1730e-09  32\n"
          ]
        },
        {
          "output_type": "stream",
          "name": "stderr",
          "text": [
            "Warning message:\n",
            "“glm.fit: algorithm did not converge”\n"
          ]
        },
        {
          "output_type": "stream",
          "name": "stdout",
          "text": [
            "\n",
            "Step:  AIC=26\n",
            "anxiousness ~ age + gender + bmi + who_bmi + phq_score + gad_score + \n",
            "    anxiety_severity + epworth_score\n",
            "\n"
          ]
        },
        {
          "output_type": "stream",
          "name": "stderr",
          "text": [
            "Warning message:\n",
            "“glm.fit: algorithm did not converge”\n",
            "Warning message:\n",
            "“glm.fit: algorithm did not converge”\n",
            "Warning message:\n",
            "“glm.fit: algorithm did not converge”\n",
            "Warning message:\n",
            "“glm.fit: algorithm did not converge”\n",
            "Warning message:\n",
            "“glm.fit: algorithm did not converge”\n",
            "Warning message:\n",
            "“glm.fit: algorithm did not converge”\n",
            "Warning message:\n",
            "“glm.fit: algorithm did not converge”\n",
            "Warning message:\n",
            "“glm.fit: fitted probabilities numerically 0 or 1 occurred”\n",
            "Warning message:\n",
            "“glm.fit: algorithm did not converge”\n"
          ]
        },
        {
          "output_type": "stream",
          "name": "stdout",
          "text": [
            "                   Df   Deviance AIC\n",
            "- who_bmi           3 3.1730e-09  20\n",
            "- anxiety_severity  3 1.0447e-07  20\n",
            "- age               1 3.1730e-09  24\n",
            "- gender            1 3.1730e-09  24\n",
            "- bmi               1 3.1730e-09  24\n",
            "- phq_score         1 3.1730e-09  24\n",
            "- gad_score         1 3.1730e-09  24\n",
            "- epworth_score     1 3.1730e-09  24\n",
            "<none>                3.1730e-09  26\n"
          ]
        },
        {
          "output_type": "stream",
          "name": "stderr",
          "text": [
            "Warning message:\n",
            "“glm.fit: algorithm did not converge”\n"
          ]
        },
        {
          "output_type": "stream",
          "name": "stdout",
          "text": [
            "\n",
            "Step:  AIC=20\n",
            "anxiousness ~ age + gender + bmi + phq_score + gad_score + anxiety_severity + \n",
            "    epworth_score\n",
            "\n"
          ]
        },
        {
          "output_type": "stream",
          "name": "stderr",
          "text": [
            "Warning message:\n",
            "“glm.fit: algorithm did not converge”\n",
            "Warning message:\n",
            "“glm.fit: algorithm did not converge”\n",
            "Warning message:\n",
            "“glm.fit: algorithm did not converge”\n",
            "Warning message:\n",
            "“glm.fit: algorithm did not converge”\n",
            "Warning message:\n",
            "“glm.fit: algorithm did not converge”\n",
            "Warning message:\n",
            "“glm.fit: algorithm did not converge”\n",
            "Warning message:\n",
            "“glm.fit: fitted probabilities numerically 0 or 1 occurred”\n",
            "Warning message:\n",
            "“glm.fit: algorithm did not converge”\n"
          ]
        },
        {
          "output_type": "stream",
          "name": "stdout",
          "text": [
            "                   Df   Deviance AIC\n",
            "- anxiety_severity  3 1.0463e-07  14\n",
            "- age               1 3.1730e-09  18\n",
            "- gender            1 3.1730e-09  18\n",
            "- bmi               1 3.1730e-09  18\n",
            "- phq_score         1 3.1730e-09  18\n",
            "- gad_score         1 3.1730e-09  18\n",
            "- epworth_score     1 3.1730e-09  18\n",
            "<none>                3.1730e-09  20\n"
          ]
        },
        {
          "output_type": "stream",
          "name": "stderr",
          "text": [
            "Warning message:\n",
            "“glm.fit: algorithm did not converge”\n",
            "Warning message:\n",
            "“glm.fit: fitted probabilities numerically 0 or 1 occurred”\n"
          ]
        },
        {
          "output_type": "stream",
          "name": "stdout",
          "text": [
            "\n",
            "Step:  AIC=14\n",
            "anxiousness ~ age + gender + bmi + phq_score + gad_score + epworth_score\n",
            "\n"
          ]
        },
        {
          "output_type": "stream",
          "name": "stderr",
          "text": [
            "Warning message:\n",
            "“glm.fit: algorithm did not converge”\n",
            "Warning message:\n",
            "“glm.fit: fitted probabilities numerically 0 or 1 occurred”\n",
            "Warning message:\n",
            "“glm.fit: algorithm did not converge”\n",
            "Warning message:\n",
            "“glm.fit: fitted probabilities numerically 0 or 1 occurred”\n",
            "Warning message:\n",
            "“glm.fit: algorithm did not converge”\n",
            "Warning message:\n",
            "“glm.fit: fitted probabilities numerically 0 or 1 occurred”\n",
            "Warning message:\n",
            "“glm.fit: algorithm did not converge”\n",
            "Warning message:\n",
            "“glm.fit: fitted probabilities numerically 0 or 1 occurred”\n",
            "Warning message:\n",
            "“glm.fit: algorithm did not converge”\n",
            "Warning message:\n",
            "“glm.fit: fitted probabilities numerically 0 or 1 occurred”\n"
          ]
        },
        {
          "output_type": "stream",
          "name": "stdout",
          "text": [
            "                Df Deviance    AIC\n",
            "- gender         1     0.00  12.00\n",
            "- epworth_score  1     0.00  12.00\n",
            "- bmi            1     0.00  12.00\n",
            "- age            1     0.00  12.00\n",
            "- phq_score      1     0.00  12.00\n",
            "<none>                 0.00  14.00\n",
            "- gad_score      1   411.64 423.64\n"
          ]
        },
        {
          "output_type": "stream",
          "name": "stderr",
          "text": [
            "Warning message:\n",
            "“glm.fit: algorithm did not converge”\n",
            "Warning message:\n",
            "“glm.fit: fitted probabilities numerically 0 or 1 occurred”\n"
          ]
        },
        {
          "output_type": "stream",
          "name": "stdout",
          "text": [
            "\n",
            "Step:  AIC=12\n",
            "anxiousness ~ age + bmi + phq_score + gad_score + epworth_score\n",
            "\n"
          ]
        },
        {
          "output_type": "stream",
          "name": "stderr",
          "text": [
            "Warning message:\n",
            "“glm.fit: algorithm did not converge”\n",
            "Warning message:\n",
            "“glm.fit: fitted probabilities numerically 0 or 1 occurred”\n",
            "Warning message:\n",
            "“glm.fit: algorithm did not converge”\n",
            "Warning message:\n",
            "“glm.fit: fitted probabilities numerically 0 or 1 occurred”\n",
            "Warning message:\n",
            "“glm.fit: algorithm did not converge”\n",
            "Warning message:\n",
            "“glm.fit: fitted probabilities numerically 0 or 1 occurred”\n",
            "Warning message:\n",
            "“glm.fit: algorithm did not converge”\n",
            "Warning message:\n",
            "“glm.fit: fitted probabilities numerically 0 or 1 occurred”\n"
          ]
        },
        {
          "output_type": "stream",
          "name": "stdout",
          "text": [
            "                Df Deviance    AIC\n",
            "- epworth_score  1     0.00  10.00\n",
            "- bmi            1     0.00  10.00\n",
            "- phq_score      1     0.00  10.00\n",
            "- age            1     0.00  10.00\n",
            "<none>                 0.00  12.00\n",
            "- gad_score      1   413.85 423.85\n"
          ]
        },
        {
          "output_type": "stream",
          "name": "stderr",
          "text": [
            "Warning message:\n",
            "“glm.fit: algorithm did not converge”\n",
            "Warning message:\n",
            "“glm.fit: fitted probabilities numerically 0 or 1 occurred”\n"
          ]
        },
        {
          "output_type": "stream",
          "name": "stdout",
          "text": [
            "\n",
            "Step:  AIC=10\n",
            "anxiousness ~ age + bmi + phq_score + gad_score\n",
            "\n"
          ]
        },
        {
          "output_type": "stream",
          "name": "stderr",
          "text": [
            "Warning message:\n",
            "“glm.fit: algorithm did not converge”\n",
            "Warning message:\n",
            "“glm.fit: fitted probabilities numerically 0 or 1 occurred”\n",
            "Warning message:\n",
            "“glm.fit: algorithm did not converge”\n",
            "Warning message:\n",
            "“glm.fit: fitted probabilities numerically 0 or 1 occurred”\n",
            "Warning message:\n",
            "“glm.fit: algorithm did not converge”\n",
            "Warning message:\n",
            "“glm.fit: fitted probabilities numerically 0 or 1 occurred”\n"
          ]
        },
        {
          "output_type": "stream",
          "name": "stdout",
          "text": [
            "            Df Deviance    AIC\n",
            "- bmi        1     0.00   8.00\n",
            "- age        1     0.00   8.00\n",
            "- phq_score  1     0.00   8.00\n",
            "<none>             0.00  10.00\n",
            "- gad_score  1   422.79 430.79\n"
          ]
        },
        {
          "output_type": "stream",
          "name": "stderr",
          "text": [
            "Warning message:\n",
            "“glm.fit: algorithm did not converge”\n",
            "Warning message:\n",
            "“glm.fit: fitted probabilities numerically 0 or 1 occurred”\n"
          ]
        },
        {
          "output_type": "stream",
          "name": "stdout",
          "text": [
            "\n",
            "Step:  AIC=8\n",
            "anxiousness ~ age + phq_score + gad_score\n",
            "\n"
          ]
        },
        {
          "output_type": "stream",
          "name": "stderr",
          "text": [
            "Warning message:\n",
            "“glm.fit: algorithm did not converge”\n",
            "Warning message:\n",
            "“glm.fit: fitted probabilities numerically 0 or 1 occurred”\n",
            "Warning message:\n",
            "“glm.fit: algorithm did not converge”\n",
            "Warning message:\n",
            "“glm.fit: fitted probabilities numerically 0 or 1 occurred”\n"
          ]
        },
        {
          "output_type": "stream",
          "name": "stdout",
          "text": [
            "            Df Deviance   AIC\n",
            "- age        1      0.0   6.0\n",
            "- phq_score  1      0.0   6.0\n",
            "<none>              0.0   8.0\n",
            "- gad_score  1    423.3 429.3\n"
          ]
        },
        {
          "output_type": "stream",
          "name": "stderr",
          "text": [
            "Warning message:\n",
            "“glm.fit: algorithm did not converge”\n",
            "Warning message:\n",
            "“glm.fit: fitted probabilities numerically 0 or 1 occurred”\n"
          ]
        },
        {
          "output_type": "stream",
          "name": "stdout",
          "text": [
            "\n",
            "Step:  AIC=6\n",
            "anxiousness ~ phq_score + gad_score\n",
            "\n"
          ]
        },
        {
          "output_type": "stream",
          "name": "stderr",
          "text": [
            "Warning message:\n",
            "“glm.fit: algorithm did not converge”\n",
            "Warning message:\n",
            "“glm.fit: fitted probabilities numerically 0 or 1 occurred”\n"
          ]
        },
        {
          "output_type": "stream",
          "name": "stdout",
          "text": [
            "            Df Deviance    AIC\n",
            "- phq_score  1     0.00   4.00\n",
            "<none>             0.00   6.00\n",
            "- gad_score  1   424.78 428.78\n"
          ]
        },
        {
          "output_type": "stream",
          "name": "stderr",
          "text": [
            "Warning message:\n",
            "“glm.fit: algorithm did not converge”\n",
            "Warning message:\n",
            "“glm.fit: fitted probabilities numerically 0 or 1 occurred”\n"
          ]
        },
        {
          "output_type": "stream",
          "name": "stdout",
          "text": [
            "\n",
            "Step:  AIC=4\n",
            "anxiousness ~ gad_score\n",
            "\n",
            "            Df Deviance    AIC\n",
            "<none>             0.00   4.00\n",
            "- gad_score  1   557.27 559.27\n"
          ]
        }
      ]
    },
    {
      "cell_type": "code",
      "source": [
        "summary(mback)"
      ],
      "metadata": {
        "colab": {
          "base_uri": "https://localhost:8080/",
          "height": 307
        },
        "id": "DXSn8SYeofLs",
        "outputId": "26644011-b76c-4dba-a517-dad0cf38da89"
      },
      "execution_count": null,
      "outputs": [
        {
          "output_type": "display_data",
          "data": {
            "text/plain": [
              "\n",
              "Call:\n",
              "glm(formula = anxiousness ~ gad_score, family = \"binomial\", data = train)\n",
              "\n",
              "Coefficients:\n",
              "            Estimate Std. Error z value Pr(>|z|)\n",
              "(Intercept)   -395.4    50782.1  -0.008    0.994\n",
              "gad_score       41.6     5355.8   0.008    0.994\n",
              "\n",
              "(Dispersion parameter for binomial family taken to be 1)\n",
              "\n",
              "    Null deviance: 5.5727e+02  on 546  degrees of freedom\n",
              "Residual deviance: 1.0301e-07  on 545  degrees of freedom\n",
              "AIC: 4\n",
              "\n",
              "Number of Fisher Scoring iterations: 25\n"
            ]
          },
          "metadata": {}
        }
      ]
    },
    {
      "cell_type": "markdown",
      "source": [
        "전혀 유의미하지 않다. 다른 자료를 찾기로 한다.\n"
      ],
      "metadata": {
        "id": "-YlFYGfoqXgO"
      }
    }
  ],
  "metadata": {
    "accelerator": "GPU",
    "colab": {
      "provenance": [],
      "authorship_tag": "ABX9TyPfWxR4CpGyGO+omDIGpzsi",
      "include_colab_link": true
    },
    "kernelspec": {
      "display_name": "R",
      "name": "ir"
    },
    "language_info": {
      "name": "R"
    }
  },
  "nbformat": 4,
  "nbformat_minor": 0
}